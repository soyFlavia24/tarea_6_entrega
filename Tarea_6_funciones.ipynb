{
 "cells": [
  {
   "cell_type": "markdown",
   "metadata": {},
   "source": [
    "# Tarea 6\n",
    "ejercicios\n",
    "1. Calculadora de IMC (Índice de Masa Corporal):\n",
    "\n",
    "Cree una función que calcule el IMC (Índice de Masa Corporal) de una persona a partir de su peso y altura. La función debe recibir como parámetros el peso (en kg) y la altura (en cm) y devolver el valor del IMC.\n",
    "\n"
   ]
  },
  {
   "cell_type": "code",
   "execution_count": 13,
   "metadata": {},
   "outputs": [],
   "source": [
    "def calculo_imc(peso,altura):\n",
    "    imc = peso / altura ** 2\n",
    "    return imc\n",
    "    "
   ]
  },
  {
   "cell_type": "code",
   "execution_count": 14,
   "metadata": {},
   "outputs": [
    {
     "data": {
      "text/plain": [
       "37.87755102040816"
      ]
     },
     "execution_count": 14,
     "metadata": {},
     "output_type": "execute_result"
    }
   ],
   "source": [
    "calculo_imc(116,1.75)"
   ]
  },
  {
   "cell_type": "markdown",
   "metadata": {},
   "source": [
    "Opcional: Implemente una segunda función que clasifique el IMC según los estándares de la OMS:\n",
    "\n",
    "Bajo peso: IMC < 18.5\n",
    "Peso normal: 18.5 <= IMC < 25\n",
    "Sobrepeso: 25 <= IMC < 30\n",
    "Obesidad: IMC >= 30"
   ]
  },
  {
   "cell_type": "code",
   "execution_count": 21,
   "metadata": {},
   "outputs": [],
   "source": [
    "def calculo_imc(peso,altura):\n",
    "    imc = peso / altura ** 2\n",
    "    if imc < 18.5 :\n",
    "        print(\"bajo peso\")\n",
    "    elif imc <= 18.5 and IMC < 25:\n",
    "        print(\"peso normal\")\n",
    "    elif imc  <= 25 and imc < 30 :\n",
    "        print(\"sobrepeso\")\n",
    "    elif imc >= 30:\n",
    "        print(\"obesidad\")"
   ]
  },
  {
   "cell_type": "code",
   "execution_count": 22,
   "metadata": {},
   "outputs": [
    {
     "name": "stdout",
     "output_type": "stream",
     "text": [
      "obesidad\n"
     ]
    }
   ],
   "source": [
    "calculo_imc(116,1.75)"
   ]
  },
  {
   "cell_type": "markdown",
   "metadata": {},
   "source": [
    "2. Analizador de números:\n",
    "\n",
    "Cree una función que reciba un número entero como parámetro y devuelva un diccionario con la siguiente información:\n",
    "\n",
    "Si el número es par o impar\n",
    "Si el número es positivo, negativo o cero\n",
    "Si el número es divisible por 3\n",
    "Si el número es divisible por 5\n",
    "Si el número es divisible por 3 y por 5\n",
    "Opcional: Implemente la función utilizando una función lambda para cada una de las verificaciones.\n"
   ]
  },
  {
   "cell_type": "code",
   "execution_count": 27,
   "metadata": {},
   "outputs": [],
   "source": [
    "def analizador_de_numeros(numero1):\n",
    "                 resultado = {\"analizador_de_numeros,resultado\"}\n",
    "   \n",
    "                \n",
    "                 if resultado == numero1 % 2 == 0 :\n",
    "                     print(\"par\")\n",
    "                 else :\n",
    "                     \"impar\",\n",
    "                             \n",
    "                             \n",
    "                \n",
    "                 if resultado == numero1 > 0:\n",
    "                     print(\"positivo\")\n",
    "                 elif  resultado == numero1 < 0:\n",
    "                     print(\"negativo\")\n",
    "                 else :\n",
    "                     print(\"cero\")\n",
    "\n",
    "\n",
    "                 if resultado ==  numero1 % 3 == 0 :\n",
    "                     print(\"divisible por tres\")\n",
    "                 elif  resultado == numero1 % 5 == 0 :\n",
    "                     print(\"divisible por cinco\")\n",
    "                 elif  resultado == numero1 % 3 == 0 and numero1 % 5 == 0 :\n",
    "                     print(\"divisible por cinco y por tres\")\n",
    "\n",
    "                     \n",
    "            \n",
    "            "
   ]
  },
  {
   "cell_type": "code",
   "execution_count": 28,
   "metadata": {},
   "outputs": [
    {
     "name": "stdout",
     "output_type": "stream",
     "text": [
      "cero\n"
     ]
    }
   ],
   "source": [
    "analizador_de_numeros(45)"
   ]
  },
  {
   "cell_type": "markdown",
   "metadata": {},
   "source": [
    "3. Calculadora de área y perímetro de figuras geométricas:\n",
    "\n",
    "Cree funciones para calcular el área y perímetro de las siguientes figuras geométricas:\n",
    "\n",
    "Cuadrado\n",
    "Triángulo (equilátero, rectángulo e isósceles)\n",
    "Círculo\n",
    "Rectángulo\n",
    "Cada función debe recibir las dimensiones necesarias como parámetros y devolver el valor correspondiente del área o perímetro.\n"
   ]
  },
  {
   "cell_type": "code",
   "execution_count": 35,
   "metadata": {},
   "outputs": [],
   "source": [
    "def area_cuadrado(lado):\n",
    "    return lado * lado\n",
    "def area_circulo(radio):\n",
    "    return 3.14 * radio * radio\n",
    "def area_triangulo(base,altura):\n",
    "    return (base * altura) / 2\n",
    "def area_rectangulo(lado,lado2):\n",
    "    return lado *  lado \n",
    "    "
   ]
  },
  {
   "cell_type": "code",
   "execution_count": 39,
   "metadata": {},
   "outputs": [
    {
     "data": {
      "text/plain": [
       "625.0"
      ]
     },
     "execution_count": 39,
     "metadata": {},
     "output_type": "execute_result"
    }
   ],
   "source": [
    "area_triangulo(50,25)"
   ]
  },
  {
   "cell_type": "code",
   "execution_count": 37,
   "metadata": {},
   "outputs": [],
   "source": [
    "def perimetro_cuadrado(lado):\n",
    "    return lado + lado + lado +lado\n",
    "def perimetro_circulo(radio):\n",
    "    return 2 * 3.14 * radio \n",
    "def perimetro_triangulo(lado):\n",
    "    return lado +lado+lado\n",
    "def perimetro_rectangulo(lado,lado2):\n",
    "    return lado * 2 +  lado * 2"
   ]
  },
  {
   "cell_type": "code",
   "execution_count": 38,
   "metadata": {},
   "outputs": [
    {
     "data": {
      "text/plain": [
       "160"
      ]
     },
     "execution_count": 38,
     "metadata": {},
     "output_type": "execute_result"
    }
   ],
   "source": [
    "perimetro_cuadrado(40)"
   ]
  },
  {
   "cell_type": "markdown",
   "metadata": {},
   "source": []
  }
 ],
 "metadata": {
  "kernelspec": {
   "display_name": "Python 3",
   "language": "python",
   "name": "python3"
  },
  "language_info": {
   "codemirror_mode": {
    "name": "ipython",
    "version": 3
   },
   "file_extension": ".py",
   "mimetype": "text/x-python",
   "name": "python",
   "nbconvert_exporter": "python",
   "pygments_lexer": "ipython3",
   "version": "3.11.5"
  }
 },
 "nbformat": 4,
 "nbformat_minor": 2
}
